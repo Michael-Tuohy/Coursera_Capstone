{
 "cells": [
  {
   "cell_type": "code",
   "execution_count": 42,
   "metadata": {},
   "outputs": [],
   "source": [
    "import numpy as np\n",
    "import pandas as pd\n",
    "import requests\n",
    "import lxml.html as lh\n",
    "\n",
    "import requests # library to handle requests\n",
    "from pandas.io.json import json_normalize # tranform JSON file into a pandas dataframe\n",
    "\n",
    "\n",
    "# Matplotlib and associated plotting modules\n",
    "import matplotlib.cm as cm\n",
    "import matplotlib.colors as colors\n",
    "\n",
    "# import k-means from clustering stage\n",
    "from sklearn.cluster import KMeans\n",
    "\n",
    "#!conda install -c conda-forge folium=0.5.0 --yes # uncomment this line if you haven't completed the Foursquare API lab\n",
    "import folium # map rendering library\n",
    "\n",
    "from sklearn.cluster import KMeans"
   ]
  },
  {
   "cell_type": "code",
   "execution_count": 43,
   "metadata": {},
   "outputs": [],
   "source": [
    "url = 'https://en.wikipedia.org/wiki/List_of_postal_codes_of_Canada:_M'\n",
    "\n",
    "#Create a handle, page, to handle the contents of the website\n",
    "page = requests.get(url)\n",
    "#Store the contents of the website under doc\n",
    "doc = lh.fromstring(page.content)\n",
    "#Parse data that are stored between <tr>..</tr> of HTML\n",
    "tr_elements = doc.xpath('//tr')"
   ]
  },
  {
   "cell_type": "code",
   "execution_count": 44,
   "metadata": {},
   "outputs": [
    {
     "name": "stdout",
     "output_type": "stream",
     "text": [
      "1:\"Postal Code\n",
      "\"\n",
      "2:\"Borough\n",
      "\"\n",
      "3:\"Neighbourhood\n",
      "\"\n"
     ]
    }
   ],
   "source": [
    "tr_elements = doc.xpath('//tr')\n",
    "#Create empty list\n",
    "col=[]\n",
    "i=0\n",
    "#For each row, store each first element (header) and an empty list\n",
    "for t in tr_elements[0]:\n",
    "    i+=1\n",
    "    name=t.text_content()\n",
    "    print ('%d:\"%s\"'%(i,name))\n",
    "    col.append((name,[]))"
   ]
  },
  {
   "cell_type": "code",
   "execution_count": 45,
   "metadata": {},
   "outputs": [],
   "source": [
    "for j in range(1,len(tr_elements)):\n",
    "    #T is our j'th row\n",
    "    T=tr_elements[j]\n",
    "    \n",
    "    #If row is not of size 3, the //tr data is not from our table \n",
    "    if len(T)!=3:\n",
    "        break\n",
    "    \n",
    "    #i is the index of our column\n",
    "    i=0\n",
    "    \n",
    "    #Iterate through each element of the row\n",
    "    for t in T.iterchildren():\n",
    "        data=t.text_content() \n",
    "        #Check if row is empty\n",
    "        if i>0:\n",
    "        #Convert any numerical value to integers\n",
    "            try:\n",
    "                data=int(data)\n",
    "            except:\n",
    "                pass\n",
    "        #Append the data to the empty list of the i'th column\n",
    "        col[i][1].append(data)\n",
    "        #Increment i for the next column\n",
    "        i+=1"
   ]
  },
  {
   "cell_type": "code",
   "execution_count": 46,
   "metadata": {},
   "outputs": [],
   "source": [
    "Dict={title:column for (title,column) in col}\n",
    "df=pd.DataFrame(Dict)"
   ]
  },
  {
   "cell_type": "code",
   "execution_count": 47,
   "metadata": {},
   "outputs": [
    {
     "data": {
      "text/html": [
       "<div>\n",
       "<style scoped>\n",
       "    .dataframe tbody tr th:only-of-type {\n",
       "        vertical-align: middle;\n",
       "    }\n",
       "\n",
       "    .dataframe tbody tr th {\n",
       "        vertical-align: top;\n",
       "    }\n",
       "\n",
       "    .dataframe thead th {\n",
       "        text-align: right;\n",
       "    }\n",
       "</style>\n",
       "<table border=\"1\" class=\"dataframe\">\n",
       "  <thead>\n",
       "    <tr style=\"text-align: right;\">\n",
       "      <th></th>\n",
       "      <th>Postal Code\\n</th>\n",
       "      <th>Borough\\n</th>\n",
       "      <th>Neighbourhood\\n</th>\n",
       "    </tr>\n",
       "  </thead>\n",
       "  <tbody>\n",
       "    <tr>\n",
       "      <th>0</th>\n",
       "      <td>M1A\\n</td>\n",
       "      <td>Not assigned\\n</td>\n",
       "      <td>Not assigned\\n</td>\n",
       "    </tr>\n",
       "    <tr>\n",
       "      <th>1</th>\n",
       "      <td>M2A\\n</td>\n",
       "      <td>Not assigned\\n</td>\n",
       "      <td>Not assigned\\n</td>\n",
       "    </tr>\n",
       "    <tr>\n",
       "      <th>2</th>\n",
       "      <td>M3A\\n</td>\n",
       "      <td>North York\\n</td>\n",
       "      <td>Parkwoods\\n</td>\n",
       "    </tr>\n",
       "    <tr>\n",
       "      <th>3</th>\n",
       "      <td>M4A\\n</td>\n",
       "      <td>North York\\n</td>\n",
       "      <td>Victoria Village\\n</td>\n",
       "    </tr>\n",
       "    <tr>\n",
       "      <th>4</th>\n",
       "      <td>M5A\\n</td>\n",
       "      <td>Downtown Toronto\\n</td>\n",
       "      <td>Regent Park, Harbourfront\\n</td>\n",
       "    </tr>\n",
       "  </tbody>\n",
       "</table>\n",
       "</div>"
      ],
      "text/plain": [
       "  Postal Code\\n           Borough\\n              Neighbourhood\\n\n",
       "0         M1A\\n      Not assigned\\n               Not assigned\\n\n",
       "1         M2A\\n      Not assigned\\n               Not assigned\\n\n",
       "2         M3A\\n        North York\\n                  Parkwoods\\n\n",
       "3         M4A\\n        North York\\n           Victoria Village\\n\n",
       "4         M5A\\n  Downtown Toronto\\n  Regent Park, Harbourfront\\n"
      ]
     },
     "execution_count": 47,
     "metadata": {},
     "output_type": "execute_result"
    }
   ],
   "source": [
    "df.head()"
   ]
  },
  {
   "cell_type": "code",
   "execution_count": 48,
   "metadata": {},
   "outputs": [],
   "source": [
    "df.rename(columns = {'Postal Code\\n':'postal code', 'Borough\\n':'borough','Neighbourhood\\n':'neighborhood'}, inplace = True)\n"
   ]
  },
  {
   "cell_type": "code",
   "execution_count": null,
   "metadata": {},
   "outputs": [],
   "source": []
  },
  {
   "cell_type": "code",
   "execution_count": 49,
   "metadata": {},
   "outputs": [],
   "source": [
    "df.replace('\\n','', regex = True, inplace = True)"
   ]
  },
  {
   "cell_type": "code",
   "execution_count": 50,
   "metadata": {},
   "outputs": [
    {
     "data": {
      "text/html": [
       "<div>\n",
       "<style scoped>\n",
       "    .dataframe tbody tr th:only-of-type {\n",
       "        vertical-align: middle;\n",
       "    }\n",
       "\n",
       "    .dataframe tbody tr th {\n",
       "        vertical-align: top;\n",
       "    }\n",
       "\n",
       "    .dataframe thead th {\n",
       "        text-align: right;\n",
       "    }\n",
       "</style>\n",
       "<table border=\"1\" class=\"dataframe\">\n",
       "  <thead>\n",
       "    <tr style=\"text-align: right;\">\n",
       "      <th></th>\n",
       "      <th>postal code</th>\n",
       "      <th>borough</th>\n",
       "      <th>neighborhood</th>\n",
       "    </tr>\n",
       "  </thead>\n",
       "  <tbody>\n",
       "    <tr>\n",
       "      <th>0</th>\n",
       "      <td>M1A</td>\n",
       "      <td>Not assigned</td>\n",
       "      <td>Not assigned</td>\n",
       "    </tr>\n",
       "    <tr>\n",
       "      <th>1</th>\n",
       "      <td>M2A</td>\n",
       "      <td>Not assigned</td>\n",
       "      <td>Not assigned</td>\n",
       "    </tr>\n",
       "    <tr>\n",
       "      <th>2</th>\n",
       "      <td>M3A</td>\n",
       "      <td>North York</td>\n",
       "      <td>Parkwoods</td>\n",
       "    </tr>\n",
       "    <tr>\n",
       "      <th>3</th>\n",
       "      <td>M4A</td>\n",
       "      <td>North York</td>\n",
       "      <td>Victoria Village</td>\n",
       "    </tr>\n",
       "    <tr>\n",
       "      <th>4</th>\n",
       "      <td>M5A</td>\n",
       "      <td>Downtown Toronto</td>\n",
       "      <td>Regent Park, Harbourfront</td>\n",
       "    </tr>\n",
       "    <tr>\n",
       "      <th>5</th>\n",
       "      <td>M6A</td>\n",
       "      <td>North York</td>\n",
       "      <td>Lawrence Manor, Lawrence Heights</td>\n",
       "    </tr>\n",
       "    <tr>\n",
       "      <th>6</th>\n",
       "      <td>M7A</td>\n",
       "      <td>Downtown Toronto</td>\n",
       "      <td>Queen's Park, Ontario Provincial Government</td>\n",
       "    </tr>\n",
       "    <tr>\n",
       "      <th>7</th>\n",
       "      <td>M8A</td>\n",
       "      <td>Not assigned</td>\n",
       "      <td>Not assigned</td>\n",
       "    </tr>\n",
       "    <tr>\n",
       "      <th>8</th>\n",
       "      <td>M9A</td>\n",
       "      <td>Etobicoke</td>\n",
       "      <td>Islington Avenue, Humber Valley Village</td>\n",
       "    </tr>\n",
       "    <tr>\n",
       "      <th>9</th>\n",
       "      <td>M1B</td>\n",
       "      <td>Scarborough</td>\n",
       "      <td>Malvern, Rouge</td>\n",
       "    </tr>\n",
       "    <tr>\n",
       "      <th>10</th>\n",
       "      <td>M2B</td>\n",
       "      <td>Not assigned</td>\n",
       "      <td>Not assigned</td>\n",
       "    </tr>\n",
       "    <tr>\n",
       "      <th>11</th>\n",
       "      <td>M3B</td>\n",
       "      <td>North York</td>\n",
       "      <td>Don Mills</td>\n",
       "    </tr>\n",
       "    <tr>\n",
       "      <th>12</th>\n",
       "      <td>M4B</td>\n",
       "      <td>East York</td>\n",
       "      <td>Parkview Hill, Woodbine Gardens</td>\n",
       "    </tr>\n",
       "    <tr>\n",
       "      <th>13</th>\n",
       "      <td>M5B</td>\n",
       "      <td>Downtown Toronto</td>\n",
       "      <td>Garden District, Ryerson</td>\n",
       "    </tr>\n",
       "    <tr>\n",
       "      <th>14</th>\n",
       "      <td>M6B</td>\n",
       "      <td>North York</td>\n",
       "      <td>Glencairn</td>\n",
       "    </tr>\n",
       "  </tbody>\n",
       "</table>\n",
       "</div>"
      ],
      "text/plain": [
       "   postal code           borough                                 neighborhood\n",
       "0          M1A      Not assigned                                 Not assigned\n",
       "1          M2A      Not assigned                                 Not assigned\n",
       "2          M3A        North York                                    Parkwoods\n",
       "3          M4A        North York                             Victoria Village\n",
       "4          M5A  Downtown Toronto                    Regent Park, Harbourfront\n",
       "5          M6A        North York             Lawrence Manor, Lawrence Heights\n",
       "6          M7A  Downtown Toronto  Queen's Park, Ontario Provincial Government\n",
       "7          M8A      Not assigned                                 Not assigned\n",
       "8          M9A         Etobicoke      Islington Avenue, Humber Valley Village\n",
       "9          M1B       Scarborough                               Malvern, Rouge\n",
       "10         M2B      Not assigned                                 Not assigned\n",
       "11         M3B        North York                                    Don Mills\n",
       "12         M4B         East York              Parkview Hill, Woodbine Gardens\n",
       "13         M5B  Downtown Toronto                     Garden District, Ryerson\n",
       "14         M6B        North York                                    Glencairn"
      ]
     },
     "execution_count": 50,
     "metadata": {},
     "output_type": "execute_result"
    }
   ],
   "source": [
    "df.head(15)"
   ]
  },
  {
   "cell_type": "code",
   "execution_count": 51,
   "metadata": {},
   "outputs": [
    {
     "data": {
      "text/plain": [
       "postal code     object\n",
       "borough         object\n",
       "neighborhood    object\n",
       "dtype: object"
      ]
     },
     "execution_count": 51,
     "metadata": {},
     "output_type": "execute_result"
    }
   ],
   "source": [
    "df.dtypes"
   ]
  },
  {
   "cell_type": "code",
   "execution_count": 52,
   "metadata": {},
   "outputs": [
    {
     "data": {
      "text/plain": [
       "0                                           Not assigned\n",
       "1                                           Not assigned\n",
       "2                                              Parkwoods\n",
       "3                                       Victoria Village\n",
       "4                              Regent Park, Harbourfront\n",
       "                             ...                        \n",
       "176                                         Not assigned\n",
       "177                                         Not assigned\n",
       "178    Mimico NW, The Queensway West, South of Bloor,...\n",
       "179                                         Not assigned\n",
       "180                                                     \n",
       "Name: neighborhood, Length: 181, dtype: object"
      ]
     },
     "execution_count": 52,
     "metadata": {},
     "output_type": "execute_result"
    }
   ],
   "source": [
    "df['neighborhood'].str.strip()"
   ]
  },
  {
   "cell_type": "markdown",
   "metadata": {},
   "source": [
    "### How many rows are are not assigned a neigborhood and a borough? "
   ]
  },
  {
   "cell_type": "code",
   "execution_count": 53,
   "metadata": {},
   "outputs": [],
   "source": [
    "missing_boro_neigh = (df['neighborhood'] == 'Not assigned') & (df['borough'] == 'Not assigned')"
   ]
  },
  {
   "cell_type": "code",
   "execution_count": 54,
   "metadata": {},
   "outputs": [
    {
     "data": {
      "text/plain": [
       "181"
      ]
     },
     "execution_count": 54,
     "metadata": {},
     "output_type": "execute_result"
    }
   ],
   "source": [
    "missing_boro_neigh.count()"
   ]
  },
  {
   "cell_type": "code",
   "execution_count": 55,
   "metadata": {},
   "outputs": [
    {
     "data": {
      "text/plain": [
       "Not assigned             77\n",
       "North York               24\n",
       "Downtown Toronto         19\n",
       "Scarborough              17\n",
       "Etobicoke                12\n",
       "Central Toronto           9\n",
       "West Toronto              6\n",
       "East York                 5\n",
       "East Toronto              5\n",
       "York                      5\n",
       "Mississauga               1\n",
       "Canadian postal codes     1\n",
       "Name: borough, dtype: int64"
      ]
     },
     "execution_count": 55,
     "metadata": {},
     "output_type": "execute_result"
    }
   ],
   "source": [
    "df['borough'].value_counts()"
   ]
  },
  {
   "cell_type": "markdown",
   "metadata": {},
   "source": [
    "#### If a cell has a borough but a Not assigned neighborhood, then the neighborhood will be the same as the borough."
   ]
  },
  {
   "cell_type": "code",
   "execution_count": 56,
   "metadata": {},
   "outputs": [],
   "source": [
    "# assign neighbohood name to borough if 'Not assigned'\n",
    "df['neighborhood'] = np.where(df['neighborhood'] =='Not assigned' ,df['neighborhood'], df['borough'])\n"
   ]
  },
  {
   "cell_type": "code",
   "execution_count": null,
   "metadata": {},
   "outputs": [],
   "source": []
  },
  {
   "cell_type": "code",
   "execution_count": 57,
   "metadata": {},
   "outputs": [],
   "source": [
    "indexNames = df[df['borough'] == 'Not assigned' ].index"
   ]
  },
  {
   "cell_type": "code",
   "execution_count": 58,
   "metadata": {},
   "outputs": [],
   "source": [
    "#df.drop(df[df.score < 50].index, inplace=True)\n",
    "df.drop(indexNames, inplace=True)"
   ]
  },
  {
   "cell_type": "code",
   "execution_count": 59,
   "metadata": {},
   "outputs": [
    {
     "data": {
      "text/plain": [
       "(104, 3)"
      ]
     },
     "execution_count": 59,
     "metadata": {},
     "output_type": "execute_result"
    }
   ],
   "source": [
    "df.shape"
   ]
  },
  {
   "cell_type": "markdown",
   "metadata": {},
   "source": [
    "##### Get the geospatial data"
   ]
  },
  {
   "cell_type": "code",
   "execution_count": 60,
   "metadata": {},
   "outputs": [],
   "source": [
    "geo_df = pd.read_csv('http://cocl.us/Geospatial_data')\n"
   ]
  },
  {
   "cell_type": "code",
   "execution_count": 61,
   "metadata": {},
   "outputs": [
    {
     "data": {
      "text/html": [
       "<div>\n",
       "<style scoped>\n",
       "    .dataframe tbody tr th:only-of-type {\n",
       "        vertical-align: middle;\n",
       "    }\n",
       "\n",
       "    .dataframe tbody tr th {\n",
       "        vertical-align: top;\n",
       "    }\n",
       "\n",
       "    .dataframe thead th {\n",
       "        text-align: right;\n",
       "    }\n",
       "</style>\n",
       "<table border=\"1\" class=\"dataframe\">\n",
       "  <thead>\n",
       "    <tr style=\"text-align: right;\">\n",
       "      <th></th>\n",
       "      <th>Postal Code</th>\n",
       "      <th>Latitude</th>\n",
       "      <th>Longitude</th>\n",
       "    </tr>\n",
       "  </thead>\n",
       "  <tbody>\n",
       "    <tr>\n",
       "      <th>0</th>\n",
       "      <td>M1B</td>\n",
       "      <td>43.806686</td>\n",
       "      <td>-79.194353</td>\n",
       "    </tr>\n",
       "    <tr>\n",
       "      <th>1</th>\n",
       "      <td>M1C</td>\n",
       "      <td>43.784535</td>\n",
       "      <td>-79.160497</td>\n",
       "    </tr>\n",
       "    <tr>\n",
       "      <th>2</th>\n",
       "      <td>M1E</td>\n",
       "      <td>43.763573</td>\n",
       "      <td>-79.188711</td>\n",
       "    </tr>\n",
       "    <tr>\n",
       "      <th>3</th>\n",
       "      <td>M1G</td>\n",
       "      <td>43.770992</td>\n",
       "      <td>-79.216917</td>\n",
       "    </tr>\n",
       "    <tr>\n",
       "      <th>4</th>\n",
       "      <td>M1H</td>\n",
       "      <td>43.773136</td>\n",
       "      <td>-79.239476</td>\n",
       "    </tr>\n",
       "  </tbody>\n",
       "</table>\n",
       "</div>"
      ],
      "text/plain": [
       "  Postal Code   Latitude  Longitude\n",
       "0         M1B  43.806686 -79.194353\n",
       "1         M1C  43.784535 -79.160497\n",
       "2         M1E  43.763573 -79.188711\n",
       "3         M1G  43.770992 -79.216917\n",
       "4         M1H  43.773136 -79.239476"
      ]
     },
     "execution_count": 61,
     "metadata": {},
     "output_type": "execute_result"
    }
   ],
   "source": [
    "geo_df.head()"
   ]
  },
  {
   "cell_type": "code",
   "execution_count": 62,
   "metadata": {},
   "outputs": [
    {
     "data": {
      "text/plain": [
       "Postal Code     object\n",
       "Latitude       float64\n",
       "Longitude      float64\n",
       "dtype: object"
      ]
     },
     "execution_count": 62,
     "metadata": {},
     "output_type": "execute_result"
    }
   ],
   "source": [
    "geo_df.dtypes"
   ]
  },
  {
   "cell_type": "code",
   "execution_count": 63,
   "metadata": {},
   "outputs": [],
   "source": [
    "neighborhoods = df.merge(geo_df,how='inner', left_on = 'postal code', right_on = 'Postal Code')"
   ]
  },
  {
   "cell_type": "code",
   "execution_count": 64,
   "metadata": {},
   "outputs": [
    {
     "data": {
      "text/html": [
       "<div>\n",
       "<style scoped>\n",
       "    .dataframe tbody tr th:only-of-type {\n",
       "        vertical-align: middle;\n",
       "    }\n",
       "\n",
       "    .dataframe tbody tr th {\n",
       "        vertical-align: top;\n",
       "    }\n",
       "\n",
       "    .dataframe thead th {\n",
       "        text-align: right;\n",
       "    }\n",
       "</style>\n",
       "<table border=\"1\" class=\"dataframe\">\n",
       "  <thead>\n",
       "    <tr style=\"text-align: right;\">\n",
       "      <th></th>\n",
       "      <th>postal code</th>\n",
       "      <th>borough</th>\n",
       "      <th>neighborhood</th>\n",
       "      <th>Postal Code</th>\n",
       "      <th>Latitude</th>\n",
       "      <th>Longitude</th>\n",
       "    </tr>\n",
       "  </thead>\n",
       "  <tbody>\n",
       "    <tr>\n",
       "      <th>0</th>\n",
       "      <td>M3A</td>\n",
       "      <td>North York</td>\n",
       "      <td>North York</td>\n",
       "      <td>M3A</td>\n",
       "      <td>43.753259</td>\n",
       "      <td>-79.329656</td>\n",
       "    </tr>\n",
       "    <tr>\n",
       "      <th>1</th>\n",
       "      <td>M4A</td>\n",
       "      <td>North York</td>\n",
       "      <td>North York</td>\n",
       "      <td>M4A</td>\n",
       "      <td>43.725882</td>\n",
       "      <td>-79.315572</td>\n",
       "    </tr>\n",
       "    <tr>\n",
       "      <th>2</th>\n",
       "      <td>M5A</td>\n",
       "      <td>Downtown Toronto</td>\n",
       "      <td>Downtown Toronto</td>\n",
       "      <td>M5A</td>\n",
       "      <td>43.654260</td>\n",
       "      <td>-79.360636</td>\n",
       "    </tr>\n",
       "    <tr>\n",
       "      <th>3</th>\n",
       "      <td>M6A</td>\n",
       "      <td>North York</td>\n",
       "      <td>North York</td>\n",
       "      <td>M6A</td>\n",
       "      <td>43.718518</td>\n",
       "      <td>-79.464763</td>\n",
       "    </tr>\n",
       "    <tr>\n",
       "      <th>4</th>\n",
       "      <td>M7A</td>\n",
       "      <td>Downtown Toronto</td>\n",
       "      <td>Downtown Toronto</td>\n",
       "      <td>M7A</td>\n",
       "      <td>43.662301</td>\n",
       "      <td>-79.389494</td>\n",
       "    </tr>\n",
       "  </tbody>\n",
       "</table>\n",
       "</div>"
      ],
      "text/plain": [
       "  postal code           borough      neighborhood Postal Code   Latitude  \\\n",
       "0         M3A        North York        North York         M3A  43.753259   \n",
       "1         M4A        North York        North York         M4A  43.725882   \n",
       "2         M5A  Downtown Toronto  Downtown Toronto         M5A  43.654260   \n",
       "3         M6A        North York        North York         M6A  43.718518   \n",
       "4         M7A  Downtown Toronto  Downtown Toronto         M7A  43.662301   \n",
       "\n",
       "   Longitude  \n",
       "0 -79.329656  \n",
       "1 -79.315572  \n",
       "2 -79.360636  \n",
       "3 -79.464763  \n",
       "4 -79.389494  "
      ]
     },
     "execution_count": 64,
     "metadata": {},
     "output_type": "execute_result"
    }
   ],
   "source": [
    "neighborhoods.head()"
   ]
  },
  {
   "cell_type": "markdown",
   "metadata": {},
   "source": [
    "#### Clean up column names"
   ]
  },
  {
   "cell_type": "code",
   "execution_count": 65,
   "metadata": {},
   "outputs": [],
   "source": [
    "neighborhoods.columns = neighborhoods.columns.str.strip()"
   ]
  },
  {
   "cell_type": "code",
   "execution_count": 66,
   "metadata": {},
   "outputs": [
    {
     "name": "stdout",
     "output_type": "stream",
     "text": [
      "Latitude range 43.60241370000001 43.836124700000006\n",
      "Longitude range -79.61581899999999 -79.16049709999999\n"
     ]
    }
   ],
   "source": [
    "#check values in latitude & longitude\n",
    "print(\"Latitude range\", neighborhoods['Latitude'].min(), neighborhoods['Latitude'].max())\n",
    "print(\"Longitude range\", neighborhoods['Longitude'].min(), neighborhoods['Longitude'].max())\n",
    " \n"
   ]
  },
  {
   "cell_type": "code",
   "execution_count": 67,
   "metadata": {},
   "outputs": [
    {
     "name": "stdout",
     "output_type": "stream",
     "text": [
      "False\n",
      "False\n"
     ]
    }
   ],
   "source": [
    "# check for nan in lat and long\n",
    "print(neighborhoods['Latitude'].isnull().values.any())\n",
    "print(neighborhoods['Longitude'].isnull().values.any())"
   ]
  },
  {
   "cell_type": "code",
   "execution_count": 68,
   "metadata": {},
   "outputs": [],
   "source": [
    "# Format the latitude & longitude\n",
    "neighborhoods['Latitude'] = pd.to_numeric(geo_df['Latitude'], errors = 'coerce', downcast = 'float')\n",
    "neighborhoods['Longitude'] = pd.to_numeric(geo_df['Longitude'], errors = 'coerce', downcast = 'float')\n",
    "\n"
   ]
  },
  {
   "cell_type": "code",
   "execution_count": 69,
   "metadata": {},
   "outputs": [
    {
     "data": {
      "text/html": [
       "<div>\n",
       "<style scoped>\n",
       "    .dataframe tbody tr th:only-of-type {\n",
       "        vertical-align: middle;\n",
       "    }\n",
       "\n",
       "    .dataframe tbody tr th {\n",
       "        vertical-align: top;\n",
       "    }\n",
       "\n",
       "    .dataframe thead th {\n",
       "        text-align: right;\n",
       "    }\n",
       "</style>\n",
       "<table border=\"1\" class=\"dataframe\">\n",
       "  <thead>\n",
       "    <tr style=\"text-align: right;\">\n",
       "      <th></th>\n",
       "      <th>postal code</th>\n",
       "      <th>borough</th>\n",
       "      <th>neighborhood</th>\n",
       "      <th>Postal Code</th>\n",
       "      <th>Latitude</th>\n",
       "      <th>Longitude</th>\n",
       "    </tr>\n",
       "  </thead>\n",
       "  <tbody>\n",
       "    <tr>\n",
       "      <th>0</th>\n",
       "      <td>M3A</td>\n",
       "      <td>North York</td>\n",
       "      <td>North York</td>\n",
       "      <td>M3A</td>\n",
       "      <td>43.806686</td>\n",
       "      <td>-79.194351</td>\n",
       "    </tr>\n",
       "    <tr>\n",
       "      <th>1</th>\n",
       "      <td>M4A</td>\n",
       "      <td>North York</td>\n",
       "      <td>North York</td>\n",
       "      <td>M4A</td>\n",
       "      <td>43.784534</td>\n",
       "      <td>-79.160500</td>\n",
       "    </tr>\n",
       "    <tr>\n",
       "      <th>2</th>\n",
       "      <td>M5A</td>\n",
       "      <td>Downtown Toronto</td>\n",
       "      <td>Downtown Toronto</td>\n",
       "      <td>M5A</td>\n",
       "      <td>43.763573</td>\n",
       "      <td>-79.188713</td>\n",
       "    </tr>\n",
       "    <tr>\n",
       "      <th>3</th>\n",
       "      <td>M6A</td>\n",
       "      <td>North York</td>\n",
       "      <td>North York</td>\n",
       "      <td>M6A</td>\n",
       "      <td>43.770992</td>\n",
       "      <td>-79.216919</td>\n",
       "    </tr>\n",
       "    <tr>\n",
       "      <th>4</th>\n",
       "      <td>M7A</td>\n",
       "      <td>Downtown Toronto</td>\n",
       "      <td>Downtown Toronto</td>\n",
       "      <td>M7A</td>\n",
       "      <td>43.773136</td>\n",
       "      <td>-79.239479</td>\n",
       "    </tr>\n",
       "    <tr>\n",
       "      <th>...</th>\n",
       "      <td>...</td>\n",
       "      <td>...</td>\n",
       "      <td>...</td>\n",
       "      <td>...</td>\n",
       "      <td>...</td>\n",
       "      <td>...</td>\n",
       "    </tr>\n",
       "    <tr>\n",
       "      <th>98</th>\n",
       "      <td>M8X</td>\n",
       "      <td>Etobicoke</td>\n",
       "      <td>Etobicoke</td>\n",
       "      <td>M8X</td>\n",
       "      <td>43.706875</td>\n",
       "      <td>-79.518188</td>\n",
       "    </tr>\n",
       "    <tr>\n",
       "      <th>99</th>\n",
       "      <td>M4Y</td>\n",
       "      <td>Downtown Toronto</td>\n",
       "      <td>Downtown Toronto</td>\n",
       "      <td>M4Y</td>\n",
       "      <td>43.696320</td>\n",
       "      <td>-79.532242</td>\n",
       "    </tr>\n",
       "    <tr>\n",
       "      <th>100</th>\n",
       "      <td>M7Y</td>\n",
       "      <td>East Toronto</td>\n",
       "      <td>East Toronto</td>\n",
       "      <td>M7Y</td>\n",
       "      <td>43.688904</td>\n",
       "      <td>-79.554726</td>\n",
       "    </tr>\n",
       "    <tr>\n",
       "      <th>101</th>\n",
       "      <td>M8Y</td>\n",
       "      <td>Etobicoke</td>\n",
       "      <td>Etobicoke</td>\n",
       "      <td>M8Y</td>\n",
       "      <td>43.739418</td>\n",
       "      <td>-79.588440</td>\n",
       "    </tr>\n",
       "    <tr>\n",
       "      <th>102</th>\n",
       "      <td>M8Z</td>\n",
       "      <td>Etobicoke</td>\n",
       "      <td>Etobicoke</td>\n",
       "      <td>M8Z</td>\n",
       "      <td>43.706749</td>\n",
       "      <td>-79.594055</td>\n",
       "    </tr>\n",
       "  </tbody>\n",
       "</table>\n",
       "<p>103 rows × 6 columns</p>\n",
       "</div>"
      ],
      "text/plain": [
       "    postal code           borough      neighborhood Postal Code   Latitude  \\\n",
       "0           M3A        North York        North York         M3A  43.806686   \n",
       "1           M4A        North York        North York         M4A  43.784534   \n",
       "2           M5A  Downtown Toronto  Downtown Toronto         M5A  43.763573   \n",
       "3           M6A        North York        North York         M6A  43.770992   \n",
       "4           M7A  Downtown Toronto  Downtown Toronto         M7A  43.773136   \n",
       "..          ...               ...               ...         ...        ...   \n",
       "98          M8X         Etobicoke         Etobicoke         M8X  43.706875   \n",
       "99          M4Y  Downtown Toronto  Downtown Toronto         M4Y  43.696320   \n",
       "100         M7Y      East Toronto      East Toronto         M7Y  43.688904   \n",
       "101         M8Y         Etobicoke         Etobicoke         M8Y  43.739418   \n",
       "102         M8Z         Etobicoke         Etobicoke         M8Z  43.706749   \n",
       "\n",
       "     Longitude  \n",
       "0   -79.194351  \n",
       "1   -79.160500  \n",
       "2   -79.188713  \n",
       "3   -79.216919  \n",
       "4   -79.239479  \n",
       "..         ...  \n",
       "98  -79.518188  \n",
       "99  -79.532242  \n",
       "100 -79.554726  \n",
       "101 -79.588440  \n",
       "102 -79.594055  \n",
       "\n",
       "[103 rows x 6 columns]"
      ]
     },
     "execution_count": 69,
     "metadata": {},
     "output_type": "execute_result"
    }
   ],
   "source": [
    "neighborhoods"
   ]
  },
  {
   "cell_type": "code",
   "execution_count": 70,
   "metadata": {},
   "outputs": [
    {
     "data": {
      "text/html": [
       "<div>\n",
       "<style scoped>\n",
       "    .dataframe tbody tr th:only-of-type {\n",
       "        vertical-align: middle;\n",
       "    }\n",
       "\n",
       "    .dataframe tbody tr th {\n",
       "        vertical-align: top;\n",
       "    }\n",
       "\n",
       "    .dataframe thead th {\n",
       "        text-align: right;\n",
       "    }\n",
       "</style>\n",
       "<table border=\"1\" class=\"dataframe\">\n",
       "  <thead>\n",
       "    <tr style=\"text-align: right;\">\n",
       "      <th></th>\n",
       "      <th>borough</th>\n",
       "      <th>neighborhood</th>\n",
       "      <th>postal code</th>\n",
       "      <th>Latitude</th>\n",
       "      <th>Longitude</th>\n",
       "    </tr>\n",
       "  </thead>\n",
       "  <tbody>\n",
       "    <tr>\n",
       "      <th>0</th>\n",
       "      <td>North York</td>\n",
       "      <td>North York</td>\n",
       "      <td>M3A</td>\n",
       "      <td>43.806686</td>\n",
       "      <td>-79.194351</td>\n",
       "    </tr>\n",
       "    <tr>\n",
       "      <th>1</th>\n",
       "      <td>North York</td>\n",
       "      <td>North York</td>\n",
       "      <td>M4A</td>\n",
       "      <td>43.784534</td>\n",
       "      <td>-79.160500</td>\n",
       "    </tr>\n",
       "    <tr>\n",
       "      <th>2</th>\n",
       "      <td>Downtown Toronto</td>\n",
       "      <td>Downtown Toronto</td>\n",
       "      <td>M5A</td>\n",
       "      <td>43.763573</td>\n",
       "      <td>-79.188713</td>\n",
       "    </tr>\n",
       "    <tr>\n",
       "      <th>3</th>\n",
       "      <td>North York</td>\n",
       "      <td>North York</td>\n",
       "      <td>M6A</td>\n",
       "      <td>43.770992</td>\n",
       "      <td>-79.216919</td>\n",
       "    </tr>\n",
       "    <tr>\n",
       "      <th>4</th>\n",
       "      <td>Downtown Toronto</td>\n",
       "      <td>Downtown Toronto</td>\n",
       "      <td>M7A</td>\n",
       "      <td>43.773136</td>\n",
       "      <td>-79.239479</td>\n",
       "    </tr>\n",
       "  </tbody>\n",
       "</table>\n",
       "</div>"
      ],
      "text/plain": [
       "            borough      neighborhood postal code   Latitude  Longitude\n",
       "0        North York        North York         M3A  43.806686 -79.194351\n",
       "1        North York        North York         M4A  43.784534 -79.160500\n",
       "2  Downtown Toronto  Downtown Toronto         M5A  43.763573 -79.188713\n",
       "3        North York        North York         M6A  43.770992 -79.216919\n",
       "4  Downtown Toronto  Downtown Toronto         M7A  43.773136 -79.239479"
      ]
     },
     "execution_count": 70,
     "metadata": {},
     "output_type": "execute_result"
    }
   ],
   "source": [
    "toronto_data = neighborhoods[['borough','neighborhood','postal code','Latitude','Longitude']].reset_index(drop=True)\n",
    "toronto_data.head()"
   ]
  },
  {
   "cell_type": "code",
   "execution_count": 71,
   "metadata": {},
   "outputs": [
    {
     "name": "stdout",
     "output_type": "stream",
     "text": [
      "43.719268798828125 -79.3881607055664\n"
     ]
    }
   ],
   "source": [
    "# find the center of the data\n",
    "mid_point_latitude = ((neighborhoods['Latitude'].min() + neighborhoods['Latitude'].max())/2)\n",
    "mid_point_longitude = ((neighborhoods['Longitude'].min() + neighborhoods['Longitude'].max())/2)\n",
    "print(mid_point_latitude, mid_point_longitude)\n"
   ]
  },
  {
   "cell_type": "code",
   "execution_count": 72,
   "metadata": {},
   "outputs": [
    {
     "data": {
      "text/html": [
       "<div style=\"width:100%;\"><div style=\"position:relative;width:100%;height:0;padding-bottom:60%;\"><span style=\"color:#565656\">Make this Notebook Trusted to load map: File -> Trust Notebook</span><iframe src=\"about:blank\" style=\"position:absolute;width:100%;height:100%;left:0;top:0;border:none !important;\" data-html=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 onload=\"this.contentDocument.open();this.contentDocument.write(atob(this.getAttribute('data-html')));this.contentDocument.close();\" allowfullscreen webkitallowfullscreen mozallowfullscreen></iframe></div></div>"
      ],
      "text/plain": [
       "<folium.folium.Map at 0x28ec247a408>"
      ]
     },
     "execution_count": 72,
     "metadata": {},
     "output_type": "execute_result"
    }
   ],
   "source": [
    "map_toronto = folium.Map(location=[mid_point_latitude, mid_point_longitude], zoom_start=11)\n",
    "map_toronto"
   ]
  },
  {
   "cell_type": "markdown",
   "metadata": {},
   "source": [
    "### Create map around Toronto"
   ]
  },
  {
   "cell_type": "code",
   "execution_count": 73,
   "metadata": {},
   "outputs": [
    {
     "data": {
      "text/html": [
       "<div style=\"width:100%;\"><div style=\"position:relative;width:100%;height:0;padding-bottom:60%;\"><span style=\"color:#565656\">Make this Notebook Trusted to load map: File -> Trust Notebook</span><iframe src=\"about:blank\" style=\"position:absolute;width:100%;height:100%;left:0;top:0;border:none !important;\" data-html=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 onload=\"this.contentDocument.open();this.contentDocument.write(atob(this.getAttribute('data-html')));this.contentDocument.close();\" allowfullscreen webkitallowfullscreen mozallowfullscreen></iframe></div></div>"
      ],
      "text/plain": [
       "<folium.folium.Map at 0x28ec247a408>"
      ]
     },
     "execution_count": 73,
     "metadata": {},
     "output_type": "execute_result"
    }
   ],
   "source": [
    "import folium\n",
    "# create map of Toronto using latitude and longitude values\n",
    "latitude = neighborhoods['Latitude']\n",
    "longitude = neighborhoods['Longitude']\n",
    "\n",
    "#map_toronto = folium.Map(location=[latitude, longitude], zoom_start=10)\n",
    "\n",
    "\n",
    "# add markers to map\n",
    "for lat, lng, borough, neighborhood in zip(neighborhoods['Latitude'], neighborhoods['Longitude'], neighborhoods['borough'], neighborhoods['neighborhood']):\n",
    "    label = '{}, {}'.format(neighborhood, borough)\n",
    "    label = folium.Popup(label, parse_html=True)\n",
    "    folium.CircleMarker(\n",
    "        [lat, lng],\n",
    "        radius=5,\n",
    "        popup=label,\n",
    "        color='blue',\n",
    "        fill=True,\n",
    "        fill_color='#3186cc',\n",
    "        fill_opacity=0.7,\n",
    "        parse_html=False).add_to(map_toronto)  \n",
    "    \n",
    "map_toronto"
   ]
  },
  {
   "cell_type": "markdown",
   "metadata": {},
   "source": [
    "### Define Foursquare Credentials and Version"
   ]
  },
  {
   "cell_type": "code",
   "execution_count": 74,
   "metadata": {},
   "outputs": [
    {
     "name": "stdout",
     "output_type": "stream",
     "text": [
      "Your credentails:\n",
      "CLIENT_ID: 450JZYHOXGKOWLVHKRM0BEGKHDY5XJL0Q1DHODCMLQRRNGC3\n",
      "CLIENT_SECRET:MDC2EYL0Y3OVOJL3WJIJJKUT3M1ALJLIILOGA2CCNKNO23O2\n"
     ]
    }
   ],
   "source": [
    "CLIENT_ID = '450JZYHOXGKOWLVHKRM0BEGKHDY5XJL0Q1DHODCMLQRRNGC3' # your Foursquare ID\n",
    "CLIENT_SECRET = 'MDC2EYL0Y3OVOJL3WJIJJKUT3M1ALJLIILOGA2CCNKNO23O2' # your Foursquare Secret\n",
    "VERSION = '20200801' # Foursquare API version\n",
    "\n",
    "print('Your credentails:')\n",
    "print('CLIENT_ID: ' + CLIENT_ID)\n",
    "print('CLIENT_SECRET:' + CLIENT_SECRET)"
   ]
  },
  {
   "cell_type": "code",
   "execution_count": 75,
   "metadata": {},
   "outputs": [
    {
     "data": {
      "text/plain": [
       "'North York'"
      ]
     },
     "execution_count": 75,
     "metadata": {},
     "output_type": "execute_result"
    }
   ],
   "source": [
    "neighborhoods.loc[0, 'neighborhood']"
   ]
  },
  {
   "cell_type": "code",
   "execution_count": 76,
   "metadata": {},
   "outputs": [
    {
     "name": "stdout",
     "output_type": "stream",
     "text": [
      "Latitude and longitude values of North York are 43.770992279052734, -79.2169189453125.\n"
     ]
    }
   ],
   "source": [
    "neighborhood_latitude = neighborhoods.loc[3, 'Latitude'] # neighborhood latitude value\n",
    "neighborhood_longitude = neighborhoods.loc[3, 'Longitude'] # neighborhood longitude value\n",
    "\n",
    "neighborhood_name = neighborhoods.loc[3, 'neighborhood'] # neighborhood name\n",
    "\n",
    "print('Latitude and longitude values of {} are {}, {}.'.format(neighborhood_name, \n",
    "                                                               neighborhood_latitude, \n",
    "                                                               neighborhood_longitude))"
   ]
  },
  {
   "cell_type": "code",
   "execution_count": 77,
   "metadata": {},
   "outputs": [
    {
     "data": {
      "text/plain": [
       "'https://api.foursquare.com/v2/venues/explore?&client_id=450JZYHOXGKOWLVHKRM0BEGKHDY5XJL0Q1DHODCMLQRRNGC3&client_secret=MDC2EYL0Y3OVOJL3WJIJJKUT3M1ALJLIILOGA2CCNKNO23O2&v=20200801&ll=43.770992279052734,-79.2169189453125&radius=500&limit=100'"
      ]
     },
     "execution_count": 77,
     "metadata": {},
     "output_type": "execute_result"
    }
   ],
   "source": [
    "LIMIT = 100 # limit of number of venues returned by Foursquare API\n",
    "\n",
    "radius = 500 # define radius\n",
    "\n",
    "url = 'https://api.foursquare.com/v2/venues/explore?&client_id={}&client_secret={}&v={}&ll={},{}&radius={}&limit={}'.format(\n",
    "    CLIENT_ID, \n",
    "    CLIENT_SECRET, \n",
    "    VERSION, \n",
    "    neighborhood_latitude, \n",
    "    neighborhood_longitude, \n",
    "    radius, \n",
    "    LIMIT)\n",
    "url # display UR"
   ]
  },
  {
   "cell_type": "code",
   "execution_count": 78,
   "metadata": {},
   "outputs": [
    {
     "data": {
      "text/plain": [
       "{'meta': {'code': 429,\n",
       "  'errorType': 'quota_exceeded',\n",
       "  'errorDetail': 'Quota exceeded',\n",
       "  'requestId': '5f31b985c5ebcc30c4c11915'},\n",
       " 'response': {}}"
      ]
     },
     "execution_count": 78,
     "metadata": {},
     "output_type": "execute_result"
    }
   ],
   "source": [
    "results = requests.get(url).json()\n",
    "results"
   ]
  },
  {
   "cell_type": "code",
   "execution_count": 79,
   "metadata": {},
   "outputs": [
    {
     "name": "stderr",
     "output_type": "stream",
     "text": [
      "C:\\ProgramData\\Anaconda3\\lib\\site-packages\\ipykernel_launcher.py:2: FutureWarning: pandas.io.json.json_normalize is deprecated, use pandas.json_normalize instead\n",
      "  \n"
     ]
    },
    {
     "data": {
      "text/html": [
       "<div>\n",
       "<style scoped>\n",
       "    .dataframe tbody tr th:only-of-type {\n",
       "        vertical-align: middle;\n",
       "    }\n",
       "\n",
       "    .dataframe tbody tr th {\n",
       "        vertical-align: top;\n",
       "    }\n",
       "\n",
       "    .dataframe thead th {\n",
       "        text-align: right;\n",
       "    }\n",
       "</style>\n",
       "<table border=\"1\" class=\"dataframe\">\n",
       "  <thead>\n",
       "    <tr style=\"text-align: right;\">\n",
       "      <th></th>\n",
       "      <th>meta.code</th>\n",
       "      <th>meta.errorType</th>\n",
       "      <th>meta.errorDetail</th>\n",
       "      <th>meta.requestId</th>\n",
       "    </tr>\n",
       "  </thead>\n",
       "  <tbody>\n",
       "    <tr>\n",
       "      <th>0</th>\n",
       "      <td>429</td>\n",
       "      <td>quota_exceeded</td>\n",
       "      <td>Quota exceeded</td>\n",
       "      <td>5f31b985c5ebcc30c4c11915</td>\n",
       "    </tr>\n",
       "  </tbody>\n",
       "</table>\n",
       "</div>"
      ],
      "text/plain": [
       "   meta.code  meta.errorType meta.errorDetail            meta.requestId\n",
       "0        429  quota_exceeded   Quota exceeded  5f31b985c5ebcc30c4c11915"
      ]
     },
     "execution_count": 79,
     "metadata": {},
     "output_type": "execute_result"
    }
   ],
   "source": [
    "# tranform venues into a dataframe\n",
    "dataframe = json_normalize(results)\n",
    "dataframe.head()"
   ]
  },
  {
   "cell_type": "code",
   "execution_count": 80,
   "metadata": {},
   "outputs": [],
   "source": [
    "# function that extracts the category of the venue\n",
    "def get_category_type(row):\n",
    "    try:\n",
    "        categories_list = row['categories']\n",
    "    except:\n",
    "        categories_list = row['venue.categories']\n",
    "        \n",
    "    if len(categories_list) == 0:\n",
    "        return None\n",
    "    else:\n",
    "        return categories_list[0]['name']"
   ]
  },
  {
   "cell_type": "code",
   "execution_count": 82,
   "metadata": {},
   "outputs": [
    {
     "ename": "KeyError",
     "evalue": "0",
     "output_type": "error",
     "traceback": [
      "\u001b[1;31m---------------------------------------------------------------------------\u001b[0m",
      "\u001b[1;31mKeyError\u001b[0m                                  Traceback (most recent call last)",
      "\u001b[1;32m<ipython-input-82-01ac7b5c1610>\u001b[0m in \u001b[0;36m<module>\u001b[1;34m\u001b[0m\n\u001b[0;32m      1\u001b[0m \u001b[1;31m#venues = results['response']['groups'][0]['items']\u001b[0m\u001b[1;33m\u001b[0m\u001b[1;33m\u001b[0m\u001b[1;33m\u001b[0m\u001b[0m\n\u001b[0;32m      2\u001b[0m \u001b[1;33m\u001b[0m\u001b[0m\n\u001b[1;32m----> 3\u001b[1;33m \u001b[0mvenues\u001b[0m \u001b[1;33m=\u001b[0m \u001b[0mresults\u001b[0m\u001b[1;33m[\u001b[0m\u001b[1;34m'response'\u001b[0m\u001b[1;33m]\u001b[0m\u001b[1;33m[\u001b[0m\u001b[1;36m0\u001b[0m\u001b[1;33m]\u001b[0m\u001b[1;33m[\u001b[0m\u001b[1;34m'items'\u001b[0m\u001b[1;33m]\u001b[0m\u001b[1;33m\u001b[0m\u001b[1;33m\u001b[0m\u001b[0m\n\u001b[0m\u001b[0;32m      4\u001b[0m \u001b[1;33m\u001b[0m\u001b[0m\n\u001b[0;32m      5\u001b[0m \u001b[0mnearby_venues\u001b[0m \u001b[1;33m=\u001b[0m \u001b[0mjson_normalize\u001b[0m\u001b[1;33m(\u001b[0m\u001b[0mvenues\u001b[0m\u001b[1;33m)\u001b[0m \u001b[1;31m# flatten JSON\u001b[0m\u001b[1;33m\u001b[0m\u001b[1;33m\u001b[0m\u001b[0m\n",
      "\u001b[1;31mKeyError\u001b[0m: 0"
     ]
    }
   ],
   "source": [
    "venues = results['response']['groups'][0]['items']\n",
    "\n",
    "\n",
    "nearby_venues = json_normalize(venues) # flatten JSON\n",
    "\n",
    "# filter columns\n",
    "filtered_columns = ['venue.name', 'venue.categories', 'venue.location.lat', 'venue.location.lng']\n",
    "nearby_venues =nearby_venues.loc[:, filtered_columns]\n",
    "\n",
    "# filter the category for each row\n",
    "nearby_venues['venue.categories'] = nearby_venues.apply(get_category_type, axis=1)\n",
    "# clean columns\n",
    "nearby_venues.columns = [col.split(\".\")[-1] for col in nearby_venues.columns]\n",
    "\n",
    "nearby_venues.head()"
   ]
  },
  {
   "cell_type": "markdown",
   "metadata": {},
   "source": [
    "###  Create a function to repeat the same process to all the neighborhoods in Toronto"
   ]
  },
  {
   "cell_type": "code",
   "execution_count": null,
   "metadata": {},
   "outputs": [],
   "source": [
    "def getNearbyVenues(names, latitudes, longitudes, radius=500):\n",
    "    \n",
    "    venues_list=[]\n",
    "    for name, lat, lng in zip(names, latitudes, longitudes):\n",
    "        print(name)\n",
    "            \n",
    "        # create the API request URL\n",
    "        url = 'https://api.foursquare.com/v2/venues/explore?&client_id={}&client_secret={}&v={}&ll={},{}&radius={}&limit={}'.format(\n",
    "            CLIENT_ID, \n",
    "            CLIENT_SECRET, \n",
    "            VERSION, \n",
    "            lat, \n",
    "            lng, \n",
    "            radius, \n",
    "            LIMIT)\n",
    "            \n",
    "        # make the GET request\n",
    "        results = requests.get(url).json()[\"response\"]['groups'][0]['items']\n",
    "        \n",
    "        # return only relevant information for each nearby venue\n",
    "        venues_list.append([(\n",
    "            name, \n",
    "            lat, \n",
    "            lng, \n",
    "            v['venue']['name'], \n",
    "            v['venue']['location']['lat'], \n",
    "            v['venue']['location']['lng'],  \n",
    "            v['venue']['categories'][0]['name']) for v in results])\n",
    "\n",
    "    nearby_venues = pd.DataFrame([item for venue_list in venues_list for item in venue_list])\n",
    "    nearby_venues.columns = ['neighborhood', \n",
    "                  'name'\n",
    "                  'Neighborhood Latitude', \n",
    "                  'Neighborhood Longitude', \n",
    "                  'Venue', \n",
    "                  'Venue Latitude', \n",
    "                  'Venue Longitude', \n",
    "                  'Venue Category']\n",
    "    \n",
    "    return(nearby_venues)"
   ]
  },
  {
   "cell_type": "code",
   "execution_count": null,
   "metadata": {},
   "outputs": [],
   "source": [
    "nearby_venues.head()"
   ]
  },
  {
   "cell_type": "code",
   "execution_count": null,
   "metadata": {},
   "outputs": [],
   "source": [
    "toronto_venues = getNearbyVenues(names= toronto_data['neighborhood'],\n",
    "                                   latitudes = toronto_data['Latitude'],\n",
    "                                   longitudes= toronto_data['Longitude'])\n",
    "                                  "
   ]
  },
  {
   "cell_type": "code",
   "execution_count": null,
   "metadata": {},
   "outputs": [],
   "source": []
  },
  {
   "cell_type": "code",
   "execution_count": null,
   "metadata": {},
   "outputs": [],
   "source": [
    "print(toronto_venues.shape)\n",
    "toronto_venues.head()"
   ]
  },
  {
   "cell_type": "code",
   "execution_count": null,
   "metadata": {},
   "outputs": [],
   "source": [
    "toronto_venues.groupby('neighborhood').count()"
   ]
  },
  {
   "cell_type": "markdown",
   "metadata": {},
   "source": [
    "Let's find out how many unique categories can be curated from all the returned venues¶"
   ]
  },
  {
   "cell_type": "code",
   "execution_count": null,
   "metadata": {},
   "outputs": [],
   "source": [
    "print('There are {} uniques categories.'.format(len(toronto_venues['Venue Category'].unique())))"
   ]
  },
  {
   "cell_type": "code",
   "execution_count": null,
   "metadata": {},
   "outputs": [],
   "source": [
    "# one hot encoding\n",
    "toronto_onehot = pd.get_dummies(toronto_venues[['Venue Category']], prefix=\"\", prefix_sep=\"\")\n",
    "\n",
    "# add neighborhood column back to dataframe\n",
    "toronto_onehot['neighborhood'] = toronto_venues['neighborhood'] \n",
    "\n",
    "# move neighborhood column to the first column\n",
    "fixed_columns = [toronto_onehot.columns[-1]] + list(toronto_onehot.columns[:-1])\n",
    "toronto_onehot = toronto_onehot[fixed_columns]\n",
    "\n",
    "toronto_onehot.head()"
   ]
  },
  {
   "cell_type": "code",
   "execution_count": null,
   "metadata": {},
   "outputs": [],
   "source": [
    "toronto_grouped = toronto_onehot.groupby('neighborhood').mean().reset_index()\n",
    "toronto_grouped\n",
    "\n",
    "num_top_venues = 5\n",
    "\n",
    "for hood in toronto_grouped['neighborhood']:\n",
    "    print(\"----\"+hood+\"----\")\n",
    "    temp = toronto_grouped[toronto_grouped['neighborhood'] == hood].T.reset_index()\n",
    "    temp.columns = ['venue','freq']\n",
    "    temp = temp.iloc[1:]\n",
    "    temp['freq'] = temp['freq'].astype(float)\n",
    "    temp = temp.round({'freq': 2})\n",
    "    print(temp.sort_values('freq', ascending=False).reset_index(drop=True).head(num_top_venues))\n",
    "    print('\\n')"
   ]
  },
  {
   "cell_type": "markdown",
   "metadata": {},
   "source": [
    "### Put this into a dataframe"
   ]
  },
  {
   "cell_type": "code",
   "execution_count": null,
   "metadata": {},
   "outputs": [],
   "source": [
    "def return_most_common_venues(row, num_top_venues):\n",
    "    row_categories = row.iloc[1:]\n",
    "    row_categories_sorted = row_categories.sort_values(ascending=False)\n",
    "    \n",
    "    return row_categories_sorted.index.values[0:num_top_venues]"
   ]
  },
  {
   "cell_type": "markdown",
   "metadata": {},
   "source": [
    "Display top ten venues"
   ]
  },
  {
   "cell_type": "code",
   "execution_count": null,
   "metadata": {},
   "outputs": [],
   "source": [
    "num_top_venues = 10\n",
    "\n",
    "indicators = ['st', 'nd', 'rd']\n",
    "\n",
    "# create columns according to number of top venues\n",
    "columns = ['neighborhood']\n",
    "for ind in np.arange(num_top_venues):\n",
    "    try:\n",
    "        columns.append('{}{} Most Common Venue'.format(ind+1, indicators[ind]))\n",
    "    except:\n",
    "        columns.append('{}th Most Common Venue'.format(ind+1))\n",
    "\n",
    "# create a new dataframe\n",
    "neighborhoods_venues_sorted = pd.DataFrame(columns=columns)\n",
    "neighborhoods_venues_sorted['neighborhood'] = toronto_grouped['neighborhood']\n",
    "\n",
    "for ind in np.arange(toronto_grouped.shape[0]):\n",
    "    neighborhoods_venues_sorted.iloc[ind, 1:] = return_most_common_venues(toronto_grouped.iloc[ind, :], num_top_venues)\n",
    "\n",
    "neighborhoods_venues_sorted.head()"
   ]
  },
  {
   "cell_type": "markdown",
   "metadata": {},
   "source": [
    "Cluster Neighborhoods"
   ]
  },
  {
   "cell_type": "code",
   "execution_count": null,
   "metadata": {},
   "outputs": [],
   "source": [
    "num_top_venues = 10\n",
    "\n",
    "indicators = ['st', 'nd', 'rd']\n",
    "\n",
    "# create columns according to number of top venues\n",
    "columns = ['neighborhood']\n",
    "for ind in np.arange(num_top_venues):\n",
    "    try:\n",
    "        columns.append('{}{} Most Common Venue'.format(ind+1, indicators[ind]))\n",
    "    except:\n",
    "        columns.append('{}th Most Common Venue'.format(ind+1))\n",
    "\n",
    "# create a new dataframe\n",
    "neighborhoods_venues_sorted = pd.DataFrame(columns=columns)\n",
    "neighborhoods_venues_sorted['neighborhood'] = toronto_grouped['neighborhood']\n",
    "\n",
    "for ind in np.arange(toronto_grouped.shape[0]):\n",
    "    neighborhoods_venues_sorted.iloc[ind, 1:] = return_most_common_venues(toronto_grouped.iloc[ind, :], num_top_venues)\n",
    "\n",
    "neighborhoods_venues_sorted.head()"
   ]
  },
  {
   "cell_type": "code",
   "execution_count": null,
   "metadata": {},
   "outputs": [],
   "source": [
    "toronto_data = neighborhoods[neighborhoods['neighborhood'] == 'Toronto'].reset_index(drop=True)\n",
    "toronto_data.head()"
   ]
  },
  {
   "cell_type": "code",
   "execution_count": null,
   "metadata": {},
   "outputs": [],
   "source": [
    "# set number of clusters\n",
    "kclusters = 5\n",
    "\n",
    "toronto_grouped_clustering = toronto_grouped.drop('neighborhood', 1)\n",
    "\n",
    "# run k-means clustering\n",
    "kmeans = KMeans(n_clusters=kclusters, random_state=0).fit(toronto_grouped_clustering)\n",
    "\n",
    "# check cluster labels generated for each row in the dataframe\n",
    "kmeans.labels_[0:10] "
   ]
  },
  {
   "cell_type": "code",
   "execution_count": null,
   "metadata": {},
   "outputs": [],
   "source": [
    "neighborhoods_venues_sorted.insert(0, 'Cluster Labels', kmeans.labels_)"
   ]
  },
  {
   "cell_type": "code",
   "execution_count": null,
   "metadata": {},
   "outputs": [],
   "source": [
    "# add labels\n",
    "\n",
    "#toronto_merged = toronto_data\n",
    "\n",
    "# merge toronto_grouped with toronto_data to add latitude/longitude for each neighborhood\n",
    "toronto_merged = neighborhoods.join(neighborhoods_venues_sorted.set_index('neighborhood'), on='neighborhood')\n",
    "\n",
    "toronto_merged.head() # check the last columns!"
   ]
  },
  {
   "cell_type": "code",
   "execution_count": null,
   "metadata": {},
   "outputs": [],
   "source": []
  },
  {
   "cell_type": "code",
   "execution_count": null,
   "metadata": {},
   "outputs": [],
   "source": [
    "#create map\n",
    "map_clusters = folium.Map(location=[mid_point_latitude, mid_point_longitude], zoom_start=11)\n",
    "\n",
    "# set color scheme for the clusters\n",
    "x = np.arange(kclusters)\n",
    "ys = [i + x + (i*x)**2 for i in range(kclusters)]\n",
    "colors_array = cm.rainbow(np.linspace(0, 1, len(ys)))\n",
    "rainbow = [colors.rgb2hex(i) for i in colors_array]\n",
    "\n",
    "# add markers to the map\n",
    "markers_colors = []\n",
    "for lat, lon, poi, cluster in zip(toronto_merged['Latitude'], toronto_merged['Longitude'], toronto_merged['neighborhood'], toronto_merged['Cluster Labels']):\n",
    "    label = folium.Popup(str(poi) + ' Cluster ' + str(cluster), parse_html=True)\n",
    "    folium.CircleMarker(\n",
    "        [lat, lon],\n",
    "        radius=5,\n",
    "        popup=label,\n",
    "        color=rainbow[cluster-1],\n",
    "        fill=True,\n",
    "        fill_color=rainbow[cluster-1],\n",
    "        fill_opacity=0.7).add_to(map_clusters)\n",
    "       \n",
    "map_clusters"
   ]
  },
  {
   "cell_type": "code",
   "execution_count": null,
   "metadata": {},
   "outputs": [],
   "source": [
    "toronto_merged.loc[toronto_merged['Cluster Labels'] == 0, toronto_merged.columns[[1] + list(range(5, toronto_merged.shape[1]))]]"
   ]
  },
  {
   "cell_type": "code",
   "execution_count": null,
   "metadata": {},
   "outputs": [],
   "source": [
    "toronto_merged.loc[toronto_merged['Cluster Labels'] == 1, toronto_merged.columns[[1] + list(range(5, toronto_merged.shape[1]))]]"
   ]
  },
  {
   "cell_type": "code",
   "execution_count": null,
   "metadata": {},
   "outputs": [],
   "source": [
    "toronto_merged.loc[toronto_merged['Cluster Labels'] == 2, toronto_merged.columns[[1] + list(range(5, toronto_merged.shape[1]))]]"
   ]
  },
  {
   "cell_type": "code",
   "execution_count": null,
   "metadata": {},
   "outputs": [],
   "source": [
    "toronto_merged.loc[toronto_merged['Cluster Labels'] == 3, toronto_merged.columns[[1] + list(range(5, toronto_merged.shape[1]))]]"
   ]
  },
  {
   "cell_type": "code",
   "execution_count": null,
   "metadata": {},
   "outputs": [],
   "source": []
  }
 ],
 "metadata": {
  "kernelspec": {
   "display_name": "Python 3",
   "language": "python",
   "name": "python3"
  },
  "language_info": {
   "codemirror_mode": {
    "name": "ipython",
    "version": 3
   },
   "file_extension": ".py",
   "mimetype": "text/x-python",
   "name": "python",
   "nbconvert_exporter": "python",
   "pygments_lexer": "ipython3",
   "version": "3.7.6"
  }
 },
 "nbformat": 4,
 "nbformat_minor": 4
}
